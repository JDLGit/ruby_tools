{
 "cells": [
  {
   "cell_type": "code",
   "execution_count": null,
   "metadata": {
    "collapsed": true,
    "run_control": {
     "marked": true
    }
   },
   "outputs": [],
   "source": [
    "%matplotlib inline\n",
    "#%matplotlib notebook"
   ]
  },
  {
   "cell_type": "markdown",
   "metadata": {},
   "source": [
    "For high dpi displays."
   ]
  },
  {
   "cell_type": "code",
   "execution_count": null,
   "metadata": {
    "collapsed": true
   },
   "outputs": [],
   "source": [
    "%config InlineBackend.figure_format = 'retina'"
   ]
  },
  {
   "cell_type": "markdown",
   "metadata": {},
   "source": [
    "# 0. General note"
   ]
  },
  {
   "cell_type": "markdown",
   "metadata": {
    "collapsed": true
   },
   "source": [
    "- Loads in ruby spectrum .asc files.\n",
    "- Fits ruby spectrum with 2 Lorentzians and a linear background.\n",
    "- John Lazarz - 171205"
    "-test"
   ]
  },
  {
   "cell_type": "markdown",
   "metadata": {},
   "source": [
    "# 1. General setup"
   ]
  },
  {
   "cell_type": "code",
   "execution_count": null,
   "metadata": {
    "collapsed": true
   },
   "outputs": [],
   "source": [
    "import os\n",
    "import sys\n",
    "import numpy as np\n",
    "from scipy import constants as con\n",
    "import matplotlib.pyplot as plt\n",
    "from matplotlib.patches import Ellipse\n",
    "import matplotlib.colors as colors\n",
    "import matplotlib.patches as mpatches\n",
    "import matplotlib.lines as mlines\n",
    "import uncertainties as uct\n",
    "from uncertainties import unumpy as unp\n",
    "from lmfit import Model\n",
    "from lmfit.models import LinearModel, LorentzianModel\n",
    "import pandas as pd\n",
    "from IPython.display import display\n",
    "import burnman\n",
    "import glob\n",
    "import re"
   ]
  },
  {
   "cell_type": "code",
   "execution_count": null,
   "metadata": {
    "collapsed": true
   },
   "outputs": [],
   "source": [
    "if not os.path.exists('burnman') and os.path.exists('../burnman'):\n",
    "    sys.path.insert(1, os.path.abspath('..'))"
   ]
  },
  {
   "cell_type": "markdown",
   "metadata": {},
   "source": [
    "### What sample is this? - Where are the data folders?"
   ]
  },
  {
   "cell_type": "code",
   "execution_count": null,
   "metadata": {
    "collapsed": false
   },
   "outputs": [],
   "source": [
    "sample = 'Ruby'\n",
    "T = 298.15\n",
    "\n",
    "ruby_path = r'C:\\data\\Huber\\Bausch\\acet_ruby\\ruby1'\n",
    "\n",
    "if os.path.exists(os.path.abspath(ruby_path)):\n",
    "    ruby_folder = os.path.abspath(ruby_path)\n",
    "    print('Using Huber working directory.')\n",
    "else:\n",
    "    ruby_path = r'C:\\data\\Raman\\Bausch\\acet_ruby\\ruby1'\n",
    "    \n",
    "    if os.path.exists(os.path.abspath(ruby_path)):\n",
    "        ruby_folder = os.path.abspath(ruby_path)\n",
    "        print('Using Raman working directory.')\n",
    "    else:\n",
    "        print('Directory does not exist.......')\n",
    "\n",
    "ruby1_path = r'C:\\data\\Raman\\Bausch\\acet_ruby\\ruby1'\n",
    "ruby2_path = r'C:\\data\\Raman\\Bausch\\acet_ruby\\ruby2'\n",
    "ruby3_path = r'C:\\data\\Raman\\Bausch\\acet_ruby\\ruby3'\n",
    "ruby4_path = r'C:\\data\\Raman\\Bausch\\acet_ruby\\ruby4'\n",
    "ruby5_path = r'C:\\data\\Raman\\Bausch\\acet_ruby\\ruby5'\n",
    "\n",
    "dirs = [ruby1_path,ruby2_path,ruby3_path,ruby4_path,ruby5_path]"
   ]
  },
  {
   "cell_type": "markdown",
   "metadata": {},
   "source": [
    "# 2. Read data"
   ]
  },
  {
   "cell_type": "markdown",
   "metadata": {},
   "source": [
    "Load in the .log files from directory as well as ruby .asc files from a folder named \"ruby\" within the directory.\n"
   ]
  },
  {
   "cell_type": "code",
   "execution_count": null,
   "metadata": {
    "collapsed": true
   },
   "outputs": [],
   "source": [
    "#idx_file = 0\n",
    "#sample = logs[idx_file]\n",
    "for i in dirs:\n",
    "    os.chdir(i)\n",
    "    rubys = glob.glob('*.asc')"
   ]
  },
  {
   "cell_type": "markdown",
   "metadata": {},
   "source": [
    "# 3. Organize and fit data\n",
    "\n",
    "First, we sort the ruby spectra into 2 lists. One list for 'table_rubys' and one list for 'sample_rubys'.\n",
    "\n",
    "#### extract_ruby\n",
    "In the 'extract_ruby' function we load the ruby spectrum from '.asc' files into lists. We then fit the data in the 'ruby_fit' funciton using the (Dawaele et al. 2008) equation to determine pressure. \n"
   ]
  },
  {
   "cell_type": "code",
   "execution_count": null,
   "metadata": {
    "collapsed": false,
    "scrolled": true
   },
   "outputs": [],
   "source": [
    "def calc_pressure(sample_lam):\n",
    "    a = 1920.0\n",
    "    b = 9.61\n",
    "    r1 = sample_lam\n",
    "    r1_o = 694.33\n",
    "    p = (a/b)*(((r1/r1_o)**b)-1)\n",
    "    return p\n",
    "\n",
    "def normalize(y):\n",
    "    z = (y-np.min(y))/(np.max(y)-np.min(y))\n",
    "    return z\n",
    "\n",
    "def ruby_fit(x,y_data,ruby):\n",
    "    y = normalize(y_data)\n",
    "    background  = LinearModel(prefix='lin_')\n",
    "    pars = background.guess(y, x=x)\n",
    "\n",
    "    r1 = LorentzianModel(prefix='r1_')\n",
    "    pars.update(r1.make_params())\n",
    "    pars['r1_center'].set(694.3)\n",
    "    pars['r1_sigma'].set(0.000954)\n",
    "    r2 = LorentzianModel(prefix='r2_')\n",
    "    pars.update(r2.make_params())\n",
    "\n",
    "    pars['r2_center'].set(692.9)\n",
    "    pars['r2_sigma'].set(0.00135)\n",
    "    mod = r1 + r2 + background\n",
    "    init = mod.eval(pars, x=x)\n",
    "    plt.plot(x, y)\n",
    "\n",
    "    out = mod.fit(y, pars, x=x)\n",
    "\n",
    "    comps = out.eval_components(x=x)\n",
    "\n",
    "    print(out.fit_report(min_correl=0.5))\n",
    "\n",
    "    plt.plot(x, out.best_fit, 'r-')\n",
    "    plt.plot(x, comps['r1_'], 'b--')\n",
    "    plt.plot(x, comps['r2_'], 'b--')\n",
    "    plt.plot(x, comps['lin_'], 'k--')\n",
    "    plt.title(ruby,fontweight='bold')\n",
    "    plt.xlabel('Wavelength (nm)',fontweight='bold')\n",
    "    plt.ylabel('Intensity (arb. units)',fontweight='bold')\n",
    "\n",
    "    r1_center = str(out.params['r1_center']).split()[2]\n",
    "    r1_center = float(r1_center.strip('value='))\n",
    "    r1_esd = str(out.params['r1_center']).split()[4]\n",
    "    r1_esd = float(r1_esd.strip(','))\n",
    "    r2_center = str(out.params['r2_center']).split()[2]\n",
    "    r2_center = float(r2_center.strip('value='))\n",
    "    r2_esd = str(out.params['r2_center']).split()[4]\n",
    "    r2_esd = float(r2_esd.strip(','))\n",
    "\n",
    "    ruby_cent = [r1_center,r2_center]\n",
    "    ruby_esd = [r1_esd,r2_esd]\n",
    "    #print(ruby_cent)\n",
    "    #print(ruby_esd)\n",
    "    return ruby_cent\n",
    "\n",
    "def extract_ruby(ruby):    \n",
    "    with open(ruby, \"r\") as f:\n",
    "        data = np.loadtxt(f)\n",
    "\n",
    "    x = data[:,0]\n",
    "    y = data[:,1]\n",
    "    \n",
    "    y_norm = normalize(y)\n",
    "    return x,y_norm\n",
    "\n",
    "count = 0\n",
    "for i in dirs:\n",
    "    print(i)\n",
    "    os.chdir(i)\n",
    "    \n",
    "    rubys = glob.glob('*.asc')\n",
    "        \n",
    "    table_rubys = []\n",
    "    sample_rubys = []\n",
    "    \n",
    "    for j in rubys:\n",
    "        if re.search('table',j):\n",
    "            table_rubys.append(j)\n",
    "        else:\n",
    "            sample_rubys.append(j)\n",
    "            \n",
    "    #table ruby wavelength\n",
    "    table_lam = []\n",
    "    for j in table_rubys:\n",
    "        fig = plt.figure()\n",
    "        x,y = extract_ruby(j)\n",
    "        r1,r2 = ruby_fit(x,y,j)\n",
    "        table_lam.append(r1)\n",
    "    \n",
    "    sample_lam = []\n",
    "    for j in sample_rubys:\n",
    "        fig = plt.figure()\n",
    "        x,y = extract_ruby(j)\n",
    "        r1,r2 = ruby_fit(x,y,j)\n",
    "        sample_lam.append(r1)\n",
    "\n",
    "    if count == 0:\n",
    "        ruby1_ps = []\n",
    "        for k in range(len(sample_lam)):\n",
    "            p = calc_pressure(sample_lam[k])\n",
    "            ruby1_ps.append(p)\n",
    "    if count == 1:\n",
    "        ruby2_ps = []\n",
    "        for k in range(len(sample_lam)):\n",
    "            p = calc_pressure(sample_lam[k])\n",
    "            ruby2_ps.append(p)\n",
    "    if count == 2:\n",
    "        ruby3_ps = []\n",
    "        for k in range(len(sample_lam)):\n",
    "            p = calc_pressure(sample_lam[k])\n",
    "            ruby3_ps.append(p)\n",
    "    if count == 3:\n",
    "        ruby4_ps = []\n",
    "        for k in range(len(sample_lam)):\n",
    "            p = calc_pressure(sample_lam[k])\n",
    "            ruby4_ps.append(p)\n",
    "    if count == 4:\n",
    "        ruby5_ps = []\n",
    "        for k in range(len(sample_lam)):\n",
    "            p = calc_pressure(sample_lam[k])\n",
    "            ruby5_ps.append(p)\n",
    "\n",
    "    count += 1"
   ]
  },
  {
   "cell_type": "code",
   "execution_count": null,
   "metadata": {
    "collapsed": false
   },
   "outputs": [],
   "source": [
    "print('Ruby - 1: \\n')\n",
    "for i in range(len(ruby1_ps)): \n",
    "    print('P%s - %.3f GPa' % (i,ruby1_ps[i]))\n",
    "    \n",
    "print('\\nRuby - 2: \\n')\n",
    "for i in range(len(ruby2_ps)): \n",
    "    print('P%s - %.3f GPa' % (i,ruby2_ps[i]))\n",
    "\n",
    "print('\\nRuby - 3: \\n')\n",
    "for i in range(len(ruby3_ps)): \n",
    "    print('P%s - %.3f GPa' % (i,ruby3_ps[i]))\n",
    "\n",
    "print('\\nRuby - 4: \\n')\n",
    "for i in range(len(ruby4_ps)): \n",
    "    print('P%s - %.3f GPa' % (i,ruby4_ps[i]))\n",
    "    \n",
    "print('\\nRuby - 5: \\n')\n",
    "for i in range(len(ruby5_ps)): \n",
    "    print('P%s - %.3f GPa' % (i,ruby5_ps[i]))"
   ]
  },
  {
   "cell_type": "markdown",
   "metadata": {},
   "source": [
    "# 7. Plot the data."
   ]
  },
  {
   "cell_type": "code",
   "execution_count": null,
   "metadata": {
    "collapsed": false
   },
   "outputs": [],
   "source": [
    "x = list(range(0,50))\n",
    "plt.plot(x, ruby1_ps, 'k-', label='ruby1')\n",
    "plt.plot(x, ruby2_ps, 'b-', label='ruby2')\n",
    "plt.plot(x, ruby3_ps, 'r-', label='ruby3')\n",
    "plt.plot(x, ruby4_ps, 'g-', label='ruby4')\n",
    "plt.plot(x, ruby5_ps, 'm-', label='ruby5')\n",
    "plt.axhline(y=max(ruby1_ps),color='k',linestyle='--')\n",
    "plt.axhline(y=min(ruby1_ps),color='k',linestyle='--')\n",
    "plt.axhline(y=max(ruby2_ps),color='b',linestyle='--')\n",
    "plt.axhline(y=min(ruby2_ps),color='b',linestyle='--')\n",
    "plt.axhline(y=max(ruby3_ps),color='r',linestyle='--')\n",
    "plt.axhline(y=min(ruby3_ps),color='r',linestyle='--')\n",
    "plt.axhline(y=max(ruby4_ps),color='g',linestyle='--')\n",
    "plt.axhline(y=min(ruby4_ps),color='g',linestyle='--')\n",
    "plt.axhline(y=max(ruby5_ps),color='m',linestyle='--')\n",
    "plt.axhline(y=min(ruby5_ps),color='m',linestyle='--')\n",
    "plt.xlabel('Position (distance)',fontweight='bold')\n",
    "plt.ylabel('Pressure (GPa)',fontweight='bold')\n",
    "plt.tick_params(direction='in',bottom=1,top=1,left=1,right=1)\n",
    "plt.title(\"%s Pressure Variation\" % (sample),fontweight='bold')\n",
    "plt.legend()\n",
    "plt.ylim(-0.03,0.24)\n",
    "plt.xlim(0,49)\n",
    "# plt.savefig('ruby-all-plot.png',dpi=800)\n",
    "plt.show()"
   ]
  },
  {
   "cell_type": "code",
   "execution_count": null,
   "metadata": {
    "collapsed": false
   },
   "outputs": [],
   "source": [
    "plt.plot(x, ruby1_ps, 'k-', label='ruby1')\n",
    "plt.axhline(y=max(ruby1_ps),color='k',linestyle='--')\n",
    "plt.axhline(y=min(ruby1_ps),color='k',linestyle='--')\n",
    "plt.xlabel('Position (distance)',fontweight='bold')\n",
    "plt.ylabel('Pressure (GPa)',fontweight='bold')\n",
    "plt.tick_params(direction='in',bottom=1,top=1,left=1,right=1)\n",
    "plt.title(\"%s Pressure Variation\" % (sample),fontweight='bold')\n",
    "plt.legend()\n",
    "plt.ylim(-0.03,0.24)\n",
    "plt.xlim(0,49)\n",
    "# plt.savefig('ruby1_plot.png',dpi=800)\n",
    "plt.show()"
   ]
  },
  {
   "cell_type": "code",
   "execution_count": null,
   "metadata": {
    "collapsed": false
   },
   "outputs": [],
   "source": [
    "plt.plot(x, ruby2_ps, 'b-', label='ruby2')\n",
    "plt.axhline(y=max(ruby2_ps),color='b',linestyle='--')\n",
    "plt.axhline(y=min(ruby2_ps),color='b',linestyle='--')\n",
    "plt.xlabel('Position (distance)',fontweight='bold')\n",
    "plt.ylabel('Pressure (GPa)',fontweight='bold')\n",
    "plt.tick_params(direction='in',bottom=1,top=1,left=1,right=1)\n",
    "plt.title(\"%s Pressure Variation\" % (sample),fontweight='bold')\n",
    "plt.legend()\n",
    "plt.ylim(-0.03,0.24)\n",
    "plt.xlim(0,49)\n",
    "# plt.savefig('ruby2_plot.png',dpi=800)\n",
    "plt.show()"
   ]
  },
  {
   "cell_type": "code",
   "execution_count": null,
   "metadata": {
    "collapsed": false
   },
   "outputs": [],
   "source": [
    "plt.plot(x, ruby3_ps, 'r-', label='ruby3')\n",
    "plt.axhline(y=max(ruby3_ps),color='r',linestyle='--')\n",
    "plt.axhline(y=min(ruby3_ps),color='r',linestyle='--')\n",
    "plt.xlabel('Position (distance)',fontweight='bold')\n",
    "plt.ylabel('Pressure (GPa)',fontweight='bold')\n",
    "plt.tick_params(direction='in',bottom=1,top=1,left=1,right=1)\n",
    "plt.title(\"%s Pressure Variation\" % (sample),fontweight='bold')\n",
    "plt.legend()\n",
    "plt.ylim(-0.03,0.24)\n",
    "plt.xlim(0,49)\n",
    "# plt.savefig('ruby3_plot.png',dpi=800)\n",
    "plt.show()"
   ]
  },
  {
   "cell_type": "code",
   "execution_count": null,
   "metadata": {
    "collapsed": false
   },
   "outputs": [],
   "source": [
    "plt.plot(x, ruby4_ps, 'g-', label='ruby4')\n",
    "plt.axhline(y=max(ruby4_ps),color='g',linestyle='--')\n",
    "plt.axhline(y=min(ruby4_ps),color='g',linestyle='--')\n",
    "plt.xlabel('Position (distance)',fontweight='bold')\n",
    "plt.ylabel('Pressure (GPa)',fontweight='bold')\n",
    "plt.tick_params(direction='in',bottom=1,top=1,left=1,right=1)\n",
    "plt.title(\"%s Pressure Variation\" % (sample),fontweight='bold')\n",
    "plt.legend()\n",
    "plt.ylim(-0.03,0.24)\n",
    "plt.xlim(0,49)\n",
    "# plt.savefig('ruby4_plot.png',dpi=800)\n",
    "plt.show()"
   ]
  },
  {
   "cell_type": "code",
   "execution_count": null,
   "metadata": {
    "collapsed": false
   },
   "outputs": [],
   "source": [
    "plt.plot(x, ruby5_ps, 'm-', label='ruby5')\n",
    "plt.axhline(y=max(ruby5_ps),color='m',linestyle='--')\n",
    "plt.axhline(y=min(ruby5_ps),color='m',linestyle='--')\n",
    "plt.xlabel('Position (distance)',fontweight='bold')\n",
    "plt.ylabel('Pressure (GPa)',fontweight='bold')\n",
    "plt.tick_params(direction='in',bottom=1,top=1,left=1,right=1)\n",
    "plt.title(\"%s Pressure Variation\" % (sample),fontweight='bold')\n",
    "plt.legend()\n",
    "plt.ylim(-0.03,0.24)\n",
    "plt.xlim(0,49)\n",
    "# plt.savefig('ruby5_plot.png',dpi=800)\n",
    "plt.show()"
   ]
  },
  {
   "cell_type": "code",
   "execution_count": null,
   "metadata": {
    "collapsed": false
   },
   "outputs": [],
   "source": [
    "print('Ruby Pressures (GPa):\\n')\n",
    "\n",
    "print('Ruby - 1:')\n",
    "print('MAX: %.4f' % max(ruby1_ps))\n",
    "print('MIN: %.4f\\n' % min(ruby1_ps))\n",
    "\n",
    "print('Ruby - 2:')\n",
    "print('MAX: %.4f' % max(ruby2_ps))\n",
    "print('MIN: %.4f\\n' % min(ruby2_ps))\n",
    "\n",
    "print('Ruby - 3:')\n",
    "print('MAX: %.4f' % max(ruby3_ps))\n",
    "print('MIN: %.4f\\n' % min(ruby3_ps))\n",
    "\n",
    "print('Ruby - 4:')\n",
    "print('MAX: %.4f' % max(ruby4_ps))\n",
    "print('MIN: %.4f\\n' % min(ruby4_ps))\n",
    "\n",
    "print('Ruby - 5:')\n",
    "print('MAX: %.4f' % max(ruby5_ps))\n",
    "print('MIN: %.4f\\n' % min(ruby5_ps))\n",
    "\n",
    "pressures = [max(ruby1_ps),max(ruby2_ps),max(ruby3_ps),max(ruby4_ps),max(ruby5_ps),\\\n",
    "            min(ruby1_ps),min(ruby2_ps),min(ruby3_ps),min(ruby4_ps),min(ruby5_ps)]\n",
    "\n",
    "print('OVERALL:')\n",
    "print('MAX: %.4f' % (max(pressures)))\n",
    "print('MIN: %.4f' % (min(pressures)))\n",
    "print('Dif.: %.4f' % (max(pressures)-min(pressures)))"
   ]
  },
  {
   "cell_type": "code",
   "execution_count": null,
   "metadata": {
    "collapsed": true
   },
   "outputs": [],
   "source": []
  }
 ],
 "metadata": {
  "anaconda-cloud": {},
  "kernelspec": {
   "display_name": "Python [default]",
   "language": "python",
   "name": "python3"
  },
  "language_info": {
   "codemirror_mode": {
    "name": "ipython",
    "version": 3
   },
   "file_extension": ".py",
   "mimetype": "text/x-python",
   "name": "python",
   "nbconvert_exporter": "python",
   "pygments_lexer": "ipython3",
   "version": "3.5.2"
  },
  "latex_envs": {
   "LaTeX_envs_menu_present": true,
   "autocomplete": true,
   "bibliofile": "biblio.bib",
   "cite_by": "apalike",
   "current_citInitial": 1,
   "eqLabelWithNumbers": true,
   "eqNumInitial": 0,
   "hotkeys": {
    "equation": "Ctrl-E",
    "itemize": "Ctrl-I"
   },
   "labels_anchors": false,
   "latex_user_defs": false,
   "report_style_numbering": false,
   "user_envs_cfg": false
  }
 },
 "nbformat": 4,
 "nbformat_minor": 1
}
