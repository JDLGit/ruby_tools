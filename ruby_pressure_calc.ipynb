{
 "cells": [
  {
   "cell_type": "code",
   "execution_count": null,
   "metadata": {
    "collapsed": true,
    "run_control": {
     "marked": true
    }
   },
   "outputs": [],
   "source": [
    "%matplotlib inline\n",
    "#%matplotlib notebook"
   ]
  },
  {
   "cell_type": "markdown",
   "metadata": {},
   "source": [
    "For high dpi displays."
   ]
  },
  {
   "cell_type": "code",
   "execution_count": null,
   "metadata": {
    "collapsed": true
   },
   "outputs": [],
   "source": [
    "%config InlineBackend.figure_format = 'retina'"
   ]
  },
  {
   "cell_type": "markdown",
   "metadata": {},
   "source": [
    "# 0. General note"
   ]
  },
  {
   "cell_type": "markdown",
   "metadata": {
    "collapsed": true
   },
   "source": [
    "- Loads in data from single LOG files.\n",
    "- Loads in ruby spectrum .asc files.\n",
    "- Fits ruby spectrum with 2 Lorentzians and a linear background.\n",
    "- Hannah Bausch - 171212"
   ]
  },
  {
   "cell_type": "markdown",
   "metadata": {},
   "source": [
    "# 1. General setup"
   ]
  },
  {
   "cell_type": "code",
   "execution_count": null,
   "metadata": {
    "collapsed": true
   },
   "outputs": [],
   "source": [
    "import os\n",
    "import sys\n",
    "import numpy as np\n",
    "from scipy import constants as con\n",
    "import matplotlib.pyplot as plt\n",
    "from matplotlib.patches import Ellipse\n",
    "import matplotlib.colors as colors\n",
    "import matplotlib.patches as mpatches\n",
    "import matplotlib.lines as mlines\n",
    "import uncertainties as uct\n",
    "from uncertainties import unumpy as unp\n",
    "from lmfit import Model\n",
    "from lmfit.models import LinearModel, LorentzianModel\n",
    "import pandas as pd\n",
    "from IPython.display import display\n",
    "import burnman\n",
    "import glob\n",
    "import re"
   ]
  },
  {
   "cell_type": "markdown",
   "metadata": {},
   "source": [
    "### What sample is this? - Where are the data folders?"
   ]
  },
  {
   "cell_type": "code",
   "execution_count": null,
   "metadata": {
    "collapsed": false
   },
   "outputs": [],
   "source": [
    "sample = 'Acetaminophen'\n",
    "T = 298.15\n",
    "\n",
    "ruby_path = r'C:\\Users\\Huber\\Box Sync\\X-ray\\acetaminophen\\ruby'\n",
    "log_path = r'C:\\Users\\Huber\\Box Sync\\X-ray\\acetaminophen'\n",
    "\n",
    "if os.path.exists(os.path.abspath(ruby_path)):\n",
    "    ruby_folder = os.path.abspath(ruby_path)\n",
    "    log_folder = os.path.abspath(log_path)\n",
    "    print('Using Huber working directory.')\n",
    "else:\n",
    "    ruby_path = r'C:\\data\\Raman\\Bausch\\acetaminophen\\after'\n",
    "    log_path = r'C:\\data\\Raman\\Bausch\\acetaminophen\\after'\n",
    "    \n",
    "    if os.path.exists(os.path.abspath(ruby_path)):\n",
    "        ruby_folder = os.path.abspath(ruby_path)\n",
    "        log_folder = os.path.abspath(log_path)\n",
    "        print('Using Raman working directory.')\n",
    "    else:\n",
    "        print('Directory does not exist.......')\n"
   ]
  },
  {
   "cell_type": "markdown",
   "metadata": {},
   "source": [
    "# 2. Read data"
   ]
  },
  {
   "cell_type": "markdown",
   "metadata": {},
   "source": [
    "Load in the .log files from directory as well as ruby .asc files from a folder named \"ruby\" within the directory.\n"
   ]
  },
  {
   "cell_type": "code",
   "execution_count": null,
   "metadata": {
    "collapsed": false
   },
   "outputs": [],
   "source": [
    "#idx_file = 0\n",
    "#sample = logs[idx_file]\n",
    "os.chdir(ruby_folder)\n",
    "rubys = glob.glob('*.asc')\n",
    "print('%s\\n' % rubys)\n",
    "print(sample)"
   ]
  },
  {
   "cell_type": "markdown",
   "metadata": {},
   "source": [
    "# 3. Organize and fit data\n",
    "\n",
    "First, we sort the ruby spectra into 2 lists. One list for 'table_rubys' and one list for 'sample_rubys'.\n",
    "\n",
    "#### extract_ruby\n",
    "In the 'extract_ruby' function we load the ruby spectrum from '.asc' files into lists. We then fit the data in the 'ruby_fit' funciton using the (Dawaele et al. 2008) equation to determine pressure. \n"
   ]
  },
  {
   "cell_type": "code",
   "execution_count": null,
   "metadata": {
    "collapsed": true
   },
   "outputs": [],
   "source": [
    "table_rubys = []\n",
    "sample_rubys = []\n",
    "for i in  rubys:\n",
    "    if re.search('table',i):\n",
    "        table_rubys.append(i)\n",
    "    else:\n",
    "        sample_rubys.append(i)"
   ]
  },
  {
   "cell_type": "code",
   "execution_count": null,
   "metadata": {
    "collapsed": false,
    "scrolled": false
   },
   "outputs": [],
   "source": [
    "def calc_pressure(sample_lam,table_lam):\n",
    "    a = 1920.0\n",
    "    b = 9.61\n",
    "    r1 = sample_lam\n",
    "    r1_o = table_lam\n",
    "    p = (a/b)*(((r1/r1_o)**b)-1)\n",
    "    return p\n",
    "\n",
    "def normalize(y):\n",
    "    z = (y-np.min(y))/(np.max(y)-np.min(y))\n",
    "    return z\n",
    "\n",
    "def ruby_fit(x,y_data,ruby):\n",
    "    #y = normalize(y_data)\n",
    "    y = y_data\n",
    "    background  = LinearModel(prefix='lin_')\n",
    "    pars = background.guess(y, x=x)\n",
    "\n",
    "    r1 = LorentzianModel(prefix='r1_')\n",
    "    pars.update(r1.make_params())\n",
    "    pars['r1_center'].set(694.3)\n",
    "    #pars['r1_sigma'].set(0.2)\n",
    "    r2 = LorentzianModel(prefix='r2_')\n",
    "    pars.update(r2.make_params())\n",
    "\n",
    "    pars['r2_center'].set(692.9)\n",
    "    #pars['r2_sigma'].set(0.2)\n",
    "    mod = r1 + r2 + background\n",
    "    init = mod.eval(pars, x=x)\n",
    "    plt.plot(x, y)\n",
    "\n",
    "    out = mod.fit(y, pars, x=x)\n",
    "\n",
    "    comps = out.eval_components(x=x)\n",
    "\n",
    "    print(out.fit_report(min_correl=0.5))\n",
    "\n",
    "    plt.plot(x, out.best_fit, 'r-')\n",
    "    plt.plot(x, comps['r1_'], 'b--')\n",
    "    plt.plot(x, comps['r2_'], 'b--')\n",
    "    plt.plot(x, comps['lin_'], 'k--')\n",
    "    plt.title(ruby,fontweight='bold')\n",
    "    plt.xlabel('Wavelength (nm)',fontweight='bold')\n",
    "    plt.ylabel('Intensity (arb. units)',fontweight='bold')\n",
    "\n",
    "    r1_center = str(out.params['r1_center']).split()[2]\n",
    "    r1_center = float(r1_center.strip('value='))\n",
    "    r1_esd = str(out.params['r1_center']).split()[4]\n",
    "    r1_esd = float(r1_esd.strip(','))\n",
    "    r2_center = str(out.params['r2_center']).split()[2]\n",
    "    r2_center = float(r2_center.strip('value='))\n",
    "    r2_esd = str(out.params['r2_center']).split()[4]\n",
    "    r2_esd = float(r2_esd.strip(','))\n",
    "\n",
    "    ruby_cent = [r1_center,r2_center]\n",
    "    ruby_esd = [r1_esd,r2_esd]\n",
    "    #print(ruby_cent)\n",
    "    #print(ruby_esd)\n",
    "    return ruby_cent\n",
    "\n",
    "def extract_ruby(ruby):    \n",
    "    with open(ruby, \"r\") as f:\n",
    "        data = np.loadtxt(f)\n",
    "\n",
    "    x = data[:,0]\n",
    "    y = data[:,1]\n",
    "    \n",
    "    y_norm = normalize(y)\n",
    "    return x,y_norm\n",
    "\n",
    "#table ruby wavelength\n",
    "table_lam = []\n",
    "for i in table_rubys:\n",
    "    fig = plt.figure()\n",
    "    x_table,y_table = extract_ruby(i)\n",
    "    r1_table,r2_table = ruby_fit(x_table,y_table,i)\n",
    "    table_lam.append(r1_table)\n",
    "    \n",
    "sample_lam = []\n",
    "for j in sample_rubys:\n",
    "    fig = plt.figure()\n",
    "    x,y = extract_ruby(j)\n",
    "    r1,r2 = ruby_fit(x,y,j)\n",
    "    sample_lam.append(r1)\n",
    "\n",
    "dac_pressures = []\n",
    "for i in range(len(sample_lam)):\n",
    "    p = calc_pressure(sample_lam[i],table_lam[i])\n",
    "    dac_pressures.append(p)\n",
    "    \n",
    "if dac_pressures[0] == 0:\n",
    "    dac_pressures[0] = 1e-8\n",
    "\n",
    "print(dac_pressures)"
   ]
  },
  {
   "cell_type": "code",
   "execution_count": null,
   "metadata": {
    "collapsed": false
   },
   "outputs": [],
   "source": [
    "print('PRESSURES: \\n')\n",
    "for i in range(len(dac_pressures)): \n",
    "    print('P%s - %.3f GPa' % (i,dac_pressures[i]))"
   ]
  },
  {
   "cell_type": "code",
   "execution_count": null,
   "metadata": {
    "collapsed": true
   },
   "outputs": [],
   "source": []
  },
  {
   "cell_type": "code",
   "execution_count": null,
   "metadata": {
    "collapsed": true
   },
   "outputs": [],
   "source": []
  }
 ],
 "metadata": {
  "anaconda-cloud": {},
  "kernelspec": {
   "display_name": "Python [default]",
   "language": "python",
   "name": "python3"
  },
  "language_info": {
   "codemirror_mode": {
    "name": "ipython",
    "version": 3
   },
   "file_extension": ".py",
   "mimetype": "text/x-python",
   "name": "python",
   "nbconvert_exporter": "python",
   "pygments_lexer": "ipython3",
   "version": "3.5.2"
  },
  "latex_envs": {
   "LaTeX_envs_menu_present": true,
   "autocomplete": true,
   "bibliofile": "biblio.bib",
   "cite_by": "apalike",
   "current_citInitial": 1,
   "eqLabelWithNumbers": true,
   "eqNumInitial": 0,
   "hotkeys": {
    "equation": "Ctrl-E",
    "itemize": "Ctrl-I"
   },
   "labels_anchors": false,
   "latex_user_defs": false,
   "report_style_numbering": false,
   "user_envs_cfg": false
  }
 },
 "nbformat": 4,
 "nbformat_minor": 1
}
